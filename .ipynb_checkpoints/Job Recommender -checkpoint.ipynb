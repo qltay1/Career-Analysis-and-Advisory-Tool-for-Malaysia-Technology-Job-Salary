{
 "cells": [
  {
   "cell_type": "code",
   "execution_count": 1,
   "id": "6437014a",
   "metadata": {},
   "outputs": [],
   "source": [
    "import numpy as np\n",
    "import pandas as pd\n",
    "import datetime\n",
    "import re\n",
    "import seaborn as sns\n",
    "import matplotlib.pyplot as plt\n",
    "%matplotlib inline"
   ]
  },
  {
   "cell_type": "code",
   "execution_count": 2,
   "id": "37bdc260",
   "metadata": {},
   "outputs": [],
   "source": [
    "df = pd.read_csv('Developer Kaki _ Developer Salary Survey 2021 Results - Form responses 1.csv')"
   ]
  },
  {
   "cell_type": "code",
   "execution_count": 3,
   "id": "3e11e89d",
   "metadata": {},
   "outputs": [],
   "source": [
    "temp = df.copy()"
   ]
  },
  {
   "cell_type": "code",
   "execution_count": null,
   "id": "6365bb05",
   "metadata": {},
   "outputs": [],
   "source": [
    "df.shape"
   ]
  },
  {
   "cell_type": "code",
   "execution_count": null,
   "id": "718e6c85",
   "metadata": {},
   "outputs": [],
   "source": [
    "pd.set_option('max_colwidth' , None)"
   ]
  },
  {
   "cell_type": "code",
   "execution_count": null,
   "id": "416eb791",
   "metadata": {},
   "outputs": [],
   "source": [
    "df.head(3)"
   ]
  },
  {
   "cell_type": "code",
   "execution_count": null,
   "id": "1952ee7d",
   "metadata": {},
   "outputs": [],
   "source": [
    "df.info()"
   ]
  },
  {
   "cell_type": "code",
   "execution_count": 15,
   "id": "c3e56007",
   "metadata": {},
   "outputs": [
    {
     "data": {
      "text/plain": [
       "<class 'str'>      415\n",
       "<class 'float'>    121\n",
       "Name: What is your current equity (stock) compensation per year?, dtype: int64"
      ]
     },
     "execution_count": 15,
     "metadata": {},
     "output_type": "execute_result"
    }
   ],
   "source": [
    "df['What is your current equity (stock) compensation per year?'].apply(type).value_counts()"
   ]
  },
  {
   "cell_type": "code",
   "execution_count": 19,
   "id": "ddb574c4",
   "metadata": {},
   "outputs": [],
   "source": [
    "temp['What is your current equity (stock) compensation per year?'].unique()\n",
    "#sns.distplot(temp['What is your current equity (stock) compensation per year?'])\n",
    "\n",
    "def update_currency(x):\n",
    "    if(isinstance(x, str)):\n",
    "        if(x.isalnum()):\n",
    "            x = np.NaN\n",
    "            return x\n",
    "    \n",
    "    return x\n",
    "        \n",
    "    \n"
   ]
  },
  {
   "cell_type": "code",
   "execution_count": 20,
   "id": "bff8ea48",
   "metadata": {},
   "outputs": [],
   "source": [
    "temp['What is your current equity (stock) compensation per year?'] = temp['What is your current equity (stock) compensation per year?'].apply(update_currency)"
   ]
  },
  {
   "cell_type": "code",
   "execution_count": 21,
   "id": "2f25fa58",
   "metadata": {},
   "outputs": [
    {
     "data": {
      "text/plain": [
       "                                   405\n",
       "100,000                              1\n",
       "0.25% @ US$15000                     1\n",
       "RM 2000                              1\n",
       "10k USD over 4 years                 1\n",
       "4000 MYR                             1\n",
       "0.1 percent company total share      1\n",
       "-                                    1\n",
       "SGD 1,000,000                        1\n",
       "0.25                                 1\n",
       "34000SGD per annum                   1\n",
       "Name: What is your current equity (stock) compensation per year?, dtype: int64"
      ]
     },
     "execution_count": 21,
     "metadata": {},
     "output_type": "execute_result"
    }
   ],
   "source": [
    "temp['What is your current equity (stock) compensation per year?'].value_counts()"
   ]
  },
  {
   "cell_type": "code",
   "execution_count": null,
   "id": "5b6cd18e",
   "metadata": {},
   "outputs": [],
   "source": [
    "sns.histplot(temp['How many days of annual leave are you entitled to?'], bins=20)\n",
    "temp['How many days of annual leave are you entitled to?'].unique()"
   ]
  },
  {
   "cell_type": "code",
   "execution_count": null,
   "id": "ccedecc5",
   "metadata": {},
   "outputs": [],
   "source": []
  },
  {
   "cell_type": "code",
   "execution_count": null,
   "id": "7257f9cb",
   "metadata": {},
   "outputs": [],
   "source": [
    "'''\n",
    "Timestamp\n",
    "What's the name of your company? [Optional]\n",
    "Indicate in 3-character currency code for starting monthly salary\n",
    "'''"
   ]
  },
  {
   "cell_type": "code",
   "execution_count": null,
   "id": "346b7e4c",
   "metadata": {},
   "outputs": [],
   "source": [
    "df.isnull().sum()"
   ]
  },
  {
   "cell_type": "code",
   "execution_count": null,
   "id": "67db07d5",
   "metadata": {},
   "outputs": [],
   "source": [
    "sns.countplot(x = df['Satisfaction Level of Current Job'])"
   ]
  },
  {
   "cell_type": "code",
   "execution_count": null,
   "id": "124fbf8f",
   "metadata": {},
   "outputs": [],
   "source": [
    "temp['Years of Experience'].unique()"
   ]
  },
  {
   "cell_type": "code",
   "execution_count": null,
   "id": "601fdd55",
   "metadata": {},
   "outputs": [],
   "source": [
    "def clean_experience(x):\n",
    "    if isinstance(x,str):\n",
    "        pattern = r'[year|years]'\n",
    "        result = re.sub(pattern, '' ,x)\n",
    "        return result \n",
    "    return float(X)\n",
    "temp['Years of Experience'] = temp['Years of Experience'].apply(clean_experience)\n",
    "temp['Years of Experience'].value_counts()\n",
    "\n"
   ]
  },
  {
   "cell_type": "code",
   "execution_count": null,
   "id": "8deac12d",
   "metadata": {},
   "outputs": [],
   "source": [
    "#df['What is your current bonus compensation per year?'].apply(lambda x: type(x))\n",
    "temp['What is your current bonus compensation per year?'].apply(type).value_counts()"
   ]
  },
  {
   "cell_type": "code",
   "execution_count": null,
   "id": "a29075bb",
   "metadata": {},
   "outputs": [],
   "source": [
    "temp['What is your current bonus compensation per year?'].unique()"
   ]
  },
  {
   "cell_type": "code",
   "execution_count": null,
   "id": "e70292ef",
   "metadata": {},
   "outputs": [],
   "source": [
    "import re \n",
    "def clean_bonus(x):\n",
    "    if isinstance(x, str):\n",
    "        pattern1 = r'[\\w+]'\n",
    "        result = re.sub(pattern1,'',x)\n",
    "        return result\n",
    "\n",
    "    return(x)\n",
    "\n",
    "temp['What is your current bonus compensation per year?'] = temp['What is your current bonus compensation per year?'].apply(clean_bonus)\n",
    "temp['What is your current bonus compensation per year?'].unique()"
   ]
  },
  {
   "cell_type": "code",
   "execution_count": null,
   "id": "de18e4e0",
   "metadata": {},
   "outputs": [],
   "source": [
    "import re \n",
    "def clean_up(x):\n",
    "    if isinstance(x, str):\n",
    "        pattern1 = r'[^\\d|^w+]'\n",
    "        \n",
    "        return re.sub(pattern1,'',x)\n",
    "\n",
    "    return(x)\n",
    "\n",
    "df['What is your current bonus compensation per year?'] = df['What is your current bonus compensation per year?'].apply(clean_up)\n",
    "df['What is your current bonus compensation per year?'].unique()"
   ]
  },
  {
   "cell_type": "code",
   "execution_count": null,
   "id": "da1410f1",
   "metadata": {},
   "outputs": [],
   "source": [
    "df[['Company Location','Company Industry','What is the size of your company?']].head()"
   ]
  },
  {
   "cell_type": "code",
   "execution_count": null,
   "id": "95fc040b",
   "metadata": {},
   "outputs": [],
   "source": [
    "def clean_company_size(x):\n",
    "    x = x.replace(',','').replace(r'employees' , ' ')\n",
    "    #x_split = x.split(x , '-')\n",
    "    return x \n",
    "\n",
    "temp['What is the size of your company?'] = temp['What is the size of your company?'].apply(clean_company_size)\n",
    "#df['What is the size of your company?'].apply(type).value_counts()\n",
    "temp['What is the size of your company?'].value_counts().plot(kind='barh')\n",
    "plt.show()"
   ]
  },
  {
   "cell_type": "code",
   "execution_count": null,
   "id": "e24b0cdc",
   "metadata": {},
   "outputs": [],
   "source": [
    "sns.heatmap(temp.corr(), annot=True)"
   ]
  },
  {
   "cell_type": "code",
   "execution_count": null,
   "id": "83393833",
   "metadata": {},
   "outputs": [],
   "source": [
    " df['Name of School or University'].value_counts().nlargest(10).plot(kind='barh')"
   ]
  },
  {
   "cell_type": "code",
   "execution_count": null,
   "id": "9c93b37b",
   "metadata": {},
   "outputs": [],
   "source": [
    "sns.distplot(x = df['Age'])"
   ]
  },
  {
   "cell_type": "code",
   "execution_count": null,
   "id": "7bfefea3",
   "metadata": {},
   "outputs": [],
   "source": [
    "df['What is the size of your company?'].value_counts()"
   ]
  },
  {
   "cell_type": "code",
   "execution_count": null,
   "id": "22d53d5f",
   "metadata": {},
   "outputs": [],
   "source": [
    "sns.countplot(x = df['Did you go through a bootcamp to learn technical skills?'])\n"
   ]
  },
  {
   "cell_type": "code",
   "execution_count": null,
   "id": "c66ca181",
   "metadata": {},
   "outputs": [],
   "source": [
    "df['What technologies do you use for work on a regular basis?']"
   ]
  },
  {
   "cell_type": "code",
   "execution_count": null,
   "id": "2d1f7462",
   "metadata": {},
   "outputs": [],
   "source": [
    "df['Name of Professional Certification(s)'].value_counts()"
   ]
  },
  {
   "cell_type": "code",
   "execution_count": null,
   "id": "58f25894",
   "metadata": {},
   "outputs": [],
   "source": [
    "df['Did you go through a bootcamp to learn technical skills?'].value_counts()"
   ]
  },
  {
   "cell_type": "code",
   "execution_count": null,
   "id": "87409c01",
   "metadata": {},
   "outputs": [],
   "source": [
    "df['What\\'s the name of your company? [Optional]'].value_counts().nlargest(20).plot(kind='barh')"
   ]
  },
  {
   "cell_type": "code",
   "execution_count": null,
   "id": "1ff5984d",
   "metadata": {},
   "outputs": [],
   "source": [
    "df['Company Benefits']                                                       \n",
    "#df['What technologies do you use for work on a regular basis?']"
   ]
  },
  {
   "cell_type": "code",
   "execution_count": null,
   "id": "9e693234",
   "metadata": {},
   "outputs": [],
   "source": []
  }
 ],
 "metadata": {
  "kernelspec": {
   "display_name": "Python 3",
   "language": "python",
   "name": "python3"
  },
  "language_info": {
   "codemirror_mode": {
    "name": "ipython",
    "version": 3
   },
   "file_extension": ".py",
   "mimetype": "text/x-python",
   "name": "python",
   "nbconvert_exporter": "python",
   "pygments_lexer": "ipython3",
   "version": "3.8.11"
  }
 },
 "nbformat": 4,
 "nbformat_minor": 5
}

{
  "nbformat": 4,
  "nbformat_minor": 5,
  "metadata": {
    "kernelspec": {
      "display_name": "Python 3",
      "language": "python",
      "name": "python3"
    },
    "language_info": {
      "codemirror_mode": {
        "name": "ipython",
        "version": 3
      },
      "file_extension": ".py",
      "mimetype": "text/x-python",
      "name": "python",
      "nbconvert_exporter": "python",
      "pygments_lexer": "ipython3",
      "version": "3.8.11"
    },
    "colab": {
      "name": "Temp .ipynb",
      "provenance": [],
      "collapsed_sections": []
    }
  },
  "cells": [
    {
      "cell_type": "markdown",
      "metadata": {
        "id": "80d745fc"
      },
      "source": [
        "# Dataset Overview"
      ],
      "id": "80d745fc"
    },
    {
      "cell_type": "code",
      "metadata": {
        "id": "e02621be"
      },
      "source": [
        "import numpy as np\n",
        "import pandas as pd\n",
        "import datetime\n",
        "import re\n",
        "import seaborn as sns\n",
        "import matplotlib.pyplot as plt\n",
        "%matplotlib inline"
      ],
      "id": "e02621be",
      "execution_count": null,
      "outputs": []
    },
    {
      "cell_type": "code",
      "metadata": {
        "colab": {
          "base_uri": "https://localhost:8080/",
          "height": 527
        },
        "id": "37bdc260",
        "outputId": "614d830e-b747-4849-ba13-be709cfe5e06"
      },
      "source": [
        "pd.set_option('max_colwidth' , None)\n",
        "\n",
        "df = pd.read_csv('Developer Kaki _ Developer Salary Survey 2021 Results - Form responses 1.csv')\n",
        "df.head(3)"
      ],
      "id": "37bdc260",
      "execution_count": null,
      "outputs": [
        {
          "output_type": "execute_result",
          "data": {
            "text/html": [
              "<div>\n",
              "<style scoped>\n",
              "    .dataframe tbody tr th:only-of-type {\n",
              "        vertical-align: middle;\n",
              "    }\n",
              "\n",
              "    .dataframe tbody tr th {\n",
              "        vertical-align: top;\n",
              "    }\n",
              "\n",
              "    .dataframe thead th {\n",
              "        text-align: right;\n",
              "    }\n",
              "</style>\n",
              "<table border=\"1\" class=\"dataframe\">\n",
              "  <thead>\n",
              "    <tr style=\"text-align: right;\">\n",
              "      <th></th>\n",
              "      <th>Timestamp</th>\n",
              "      <th>Gender</th>\n",
              "      <th>Age</th>\n",
              "      <th>Nationality</th>\n",
              "      <th>Current Country of Residence</th>\n",
              "      <th>Current State of Residence</th>\n",
              "      <th>Current City of Residence</th>\n",
              "      <th>Highest Level of Education</th>\n",
              "      <th>Name of Highest Degree Obtained</th>\n",
              "      <th>Name of School or University</th>\n",
              "      <th>Is your degree tech related?</th>\n",
              "      <th>Did you go through a bootcamp to learn technical skills?</th>\n",
              "      <th>Professional Certification (Eg. CCNA, CEH, GCP Cloud Associate)</th>\n",
              "      <th>Name of Bootcamp Course</th>\n",
              "      <th>Name of Professional Certification(s)</th>\n",
              "      <th>Job Title</th>\n",
              "      <th>What is your currency code?</th>\n",
              "      <th>What is your current monthly base salary?</th>\n",
              "      <th>What is your current bonus compensation per year?</th>\n",
              "      <th>What is your current equity (stock) compensation per year?</th>\n",
              "      <th>How many days of annual leave are you entitled to?</th>\n",
              "      <th>Company Benefits</th>\n",
              "      <th>What technologies do you use for work on a regular basis?</th>\n",
              "      <th>Company Location</th>\n",
              "      <th>Company Industry</th>\n",
              "      <th>What is the size of your company?</th>\n",
              "      <th>What is the size of your tech team?</th>\n",
              "      <th>What's the name of your company? [Optional]</th>\n",
              "      <th>Satisfaction Level of Current Job</th>\n",
              "      <th>Years of Experience</th>\n",
              "      <th>Number of past employments/jobs (excluding the current one)</th>\n",
              "      <th>What was your starting monthly salary?</th>\n",
              "      <th>Indicate in 3-character currency code for starting monthly salary</th>\n",
              "    </tr>\n",
              "  </thead>\n",
              "  <tbody>\n",
              "    <tr>\n",
              "      <th>0</th>\n",
              "      <td>26/07/2021 20:04:28</td>\n",
              "      <td>Male</td>\n",
              "      <td>41</td>\n",
              "      <td>Malaysian</td>\n",
              "      <td>Singapore</td>\n",
              "      <td>NaN</td>\n",
              "      <td>NaN</td>\n",
              "      <td>Masters Degree</td>\n",
              "      <td>Masters of Computer Science</td>\n",
              "      <td>CMU</td>\n",
              "      <td>Yes</td>\n",
              "      <td>No</td>\n",
              "      <td>No</td>\n",
              "      <td>NaN</td>\n",
              "      <td>NaN</td>\n",
              "      <td>CTO</td>\n",
              "      <td>SGD</td>\n",
              "      <td>2000</td>\n",
              "      <td>0</td>\n",
              "      <td>SGD 1,000,000</td>\n",
              "      <td>18</td>\n",
              "      <td>Learning and Development</td>\n",
              "      <td>The Internet</td>\n",
              "      <td>Singapore</td>\n",
              "      <td>Robotics</td>\n",
              "      <td>11-50 employees</td>\n",
              "      <td>2 - 10 people</td>\n",
              "      <td>NaN</td>\n",
              "      <td>10</td>\n",
              "      <td>20</td>\n",
              "      <td>5</td>\n",
              "      <td>1000.0</td>\n",
              "      <td>NaN</td>\n",
              "    </tr>\n",
              "    <tr>\n",
              "      <th>1</th>\n",
              "      <td>26/07/2021 20:04:50</td>\n",
              "      <td>Male</td>\n",
              "      <td>28</td>\n",
              "      <td>Malaysian</td>\n",
              "      <td>Malaysia</td>\n",
              "      <td>Negeri Sembilan</td>\n",
              "      <td>Tampin</td>\n",
              "      <td>Pre-university (STPM, A-Levels, Matriculation, CPU, IB, etc.)</td>\n",
              "      <td>NaN</td>\n",
              "      <td>Taruc</td>\n",
              "      <td>NaN</td>\n",
              "      <td>No</td>\n",
              "      <td>No</td>\n",
              "      <td>NaN</td>\n",
              "      <td>NaN</td>\n",
              "      <td>Front end team lead</td>\n",
              "      <td>MYR</td>\n",
              "      <td>4500</td>\n",
              "      <td>NaN</td>\n",
              "      <td>NaN</td>\n",
              "      <td>18</td>\n",
              "      <td>Vacation/Personal Days, Remote Work</td>\n",
              "      <td>Angular, NestJS, Laravel, WordPress, NextJS</td>\n",
              "      <td>Johor, Malaysia</td>\n",
              "      <td>Transport, Logistics</td>\n",
              "      <td>1-10 employees</td>\n",
              "      <td>2 - 10 people</td>\n",
              "      <td>NaN</td>\n",
              "      <td>8</td>\n",
              "      <td>5</td>\n",
              "      <td>6</td>\n",
              "      <td>4500.0</td>\n",
              "      <td>NaN</td>\n",
              "    </tr>\n",
              "    <tr>\n",
              "      <th>2</th>\n",
              "      <td>26/07/2021 20:05:11</td>\n",
              "      <td>Male</td>\n",
              "      <td>23</td>\n",
              "      <td>Malaysian</td>\n",
              "      <td>Malaysia</td>\n",
              "      <td>Kuala Lumpur</td>\n",
              "      <td>Kuala Lumpur</td>\n",
              "      <td>Undergraduate Degree</td>\n",
              "      <td>Bachelor of Computer Science</td>\n",
              "      <td>Monash University</td>\n",
              "      <td>Yes</td>\n",
              "      <td>No</td>\n",
              "      <td>No</td>\n",
              "      <td>NaN</td>\n",
              "      <td>NaN</td>\n",
              "      <td>Associate Developer</td>\n",
              "      <td>MYR</td>\n",
              "      <td>5000</td>\n",
              "      <td>0</td>\n",
              "      <td>0</td>\n",
              "      <td>16</td>\n",
              "      <td>Health Insurance, Life Insurance, Paternity Leave, Vacation/Personal Days, Gym/Wellness Reimbursement, Company Laptop</td>\n",
              "      <td>Configura Magic</td>\n",
              "      <td>Kuala Lumpur, Malaysia</td>\n",
              "      <td>Space planning</td>\n",
              "      <td>201-1000 employees</td>\n",
              "      <td>51 - 200 people</td>\n",
              "      <td>Configura</td>\n",
              "      <td>7</td>\n",
              "      <td>0</td>\n",
              "      <td>0</td>\n",
              "      <td>5000.0</td>\n",
              "      <td>NaN</td>\n",
              "    </tr>\n",
              "  </tbody>\n",
              "</table>\n",
              "</div>"
            ],
            "text/plain": [
              "             Timestamp  ... Indicate in 3-character currency code for starting monthly salary\n",
              "0  26/07/2021 20:04:28  ...                                                               NaN\n",
              "1  26/07/2021 20:04:50  ...                                                               NaN\n",
              "2  26/07/2021 20:05:11  ...                                                               NaN\n",
              "\n",
              "[3 rows x 33 columns]"
            ]
          },
          "metadata": {},
          "execution_count": 2
        }
      ]
    },
    {
      "cell_type": "code",
      "metadata": {
        "colab": {
          "base_uri": "https://localhost:8080/"
        },
        "id": "12f41434",
        "outputId": "9b629fe0-9214-4204-9592-59c3b414e625"
      },
      "source": [
        "df.shape"
      ],
      "id": "12f41434",
      "execution_count": null,
      "outputs": [
        {
          "output_type": "execute_result",
          "data": {
            "text/plain": [
              "(536, 33)"
            ]
          },
          "metadata": {},
          "execution_count": 3
        }
      ]
    },
    {
      "cell_type": "code",
      "metadata": {
        "colab": {
          "base_uri": "https://localhost:8080/"
        },
        "id": "718e6c85",
        "outputId": "07dc9b3d-11eb-4533-db37-1e3fb7794f7c"
      },
      "source": [
        "df.info()"
      ],
      "id": "718e6c85",
      "execution_count": null,
      "outputs": [
        {
          "output_type": "stream",
          "name": "stdout",
          "text": [
            "<class 'pandas.core.frame.DataFrame'>\n",
            "RangeIndex: 536 entries, 0 to 535\n",
            "Data columns (total 33 columns):\n",
            " #   Column                                                             Non-Null Count  Dtype  \n",
            "---  ------                                                             --------------  -----  \n",
            " 0   Timestamp                                                          536 non-null    object \n",
            " 1   Gender                                                             536 non-null    object \n",
            " 2   Age                                                                536 non-null    int64  \n",
            " 3   Nationality                                                        535 non-null    object \n",
            " 4   Current Country of Residence                                       536 non-null    object \n",
            " 5   Current State of Residence                                         499 non-null    object \n",
            " 6   Current City of Residence                                          493 non-null    object \n",
            " 7   Highest Level of Education                                         536 non-null    object \n",
            " 8   Name of Highest Degree Obtained                                    487 non-null    object \n",
            " 9   Name of School or University                                       477 non-null    object \n",
            " 10  Is your degree tech related?                                       518 non-null    object \n",
            " 11  Did you go through a bootcamp to learn technical skills?           536 non-null    object \n",
            " 12  Professional Certification (Eg. CCNA, CEH, GCP Cloud Associate)    536 non-null    object \n",
            " 13  Name of Bootcamp Course                                            54 non-null     object \n",
            " 14  Name of Professional Certification(s)                              87 non-null     object \n",
            " 15  Job Title                                                          536 non-null    object \n",
            " 16  What is your currency code?                                        536 non-null    object \n",
            " 17  What is your current monthly base salary?                          536 non-null    int64  \n",
            " 18  What is your current bonus compensation per year?                  484 non-null    object \n",
            " 19  What is your current equity (stock) compensation per year?         415 non-null    object \n",
            " 20  How many days of annual leave are you entitled to?                 536 non-null    int64  \n",
            " 21  Company Benefits                                                   535 non-null    object \n",
            " 22  What technologies do you use for work on a regular basis?          536 non-null    object \n",
            " 23  Company Location                                                   536 non-null    object \n",
            " 24  Company Industry                                                   536 non-null    object \n",
            " 25  What is the size of your company?                                  536 non-null    object \n",
            " 26  What is the size of your tech team?                                536 non-null    object \n",
            " 27  What's the name of your company? [Optional]                        83 non-null     object \n",
            " 28  Satisfaction Level of Current Job                                  536 non-null    int64  \n",
            " 29  Years of Experience                                                536 non-null    object \n",
            " 30  Number of past employments/jobs (excluding the current one)        536 non-null    object \n",
            " 31  What was your starting monthly salary?                             536 non-null    float64\n",
            " 32  Indicate in 3-character currency code for starting monthly salary  182 non-null    object \n",
            "dtypes: float64(1), int64(4), object(28)\n",
            "memory usage: 138.3+ KB\n"
          ]
        }
      ]
    },
    {
      "cell_type": "code",
      "metadata": {
        "colab": {
          "base_uri": "https://localhost:8080/",
          "height": 206
        },
        "id": "e62119e7",
        "outputId": "59a8f801-b60e-43e1-99c3-75ceb287e7fa"
      },
      "source": [
        "df.describe().transpose()"
      ],
      "id": "e62119e7",
      "execution_count": null,
      "outputs": [
        {
          "output_type": "execute_result",
          "data": {
            "text/html": [
              "<div>\n",
              "<style scoped>\n",
              "    .dataframe tbody tr th:only-of-type {\n",
              "        vertical-align: middle;\n",
              "    }\n",
              "\n",
              "    .dataframe tbody tr th {\n",
              "        vertical-align: top;\n",
              "    }\n",
              "\n",
              "    .dataframe thead th {\n",
              "        text-align: right;\n",
              "    }\n",
              "</style>\n",
              "<table border=\"1\" class=\"dataframe\">\n",
              "  <thead>\n",
              "    <tr style=\"text-align: right;\">\n",
              "      <th></th>\n",
              "      <th>count</th>\n",
              "      <th>mean</th>\n",
              "      <th>std</th>\n",
              "      <th>min</th>\n",
              "      <th>25%</th>\n",
              "      <th>50%</th>\n",
              "      <th>75%</th>\n",
              "      <th>max</th>\n",
              "    </tr>\n",
              "  </thead>\n",
              "  <tbody>\n",
              "    <tr>\n",
              "      <th>Age</th>\n",
              "      <td>536.0</td>\n",
              "      <td>27.712687</td>\n",
              "      <td>4.413182</td>\n",
              "      <td>15.00</td>\n",
              "      <td>24.0</td>\n",
              "      <td>27.0</td>\n",
              "      <td>30.0</td>\n",
              "      <td>44.0</td>\n",
              "    </tr>\n",
              "    <tr>\n",
              "      <th>What is your current monthly base salary?</th>\n",
              "      <td>536.0</td>\n",
              "      <td>25108.158582</td>\n",
              "      <td>397562.281905</td>\n",
              "      <td>1.00</td>\n",
              "      <td>3900.0</td>\n",
              "      <td>5500.0</td>\n",
              "      <td>8000.0</td>\n",
              "      <td>9200000.0</td>\n",
              "    </tr>\n",
              "    <tr>\n",
              "      <th>How many days of annual leave are you entitled to?</th>\n",
              "      <td>536.0</td>\n",
              "      <td>105.854478</td>\n",
              "      <td>1712.350017</td>\n",
              "      <td>-1.00</td>\n",
              "      <td>14.0</td>\n",
              "      <td>14.0</td>\n",
              "      <td>18.0</td>\n",
              "      <td>38400.0</td>\n",
              "    </tr>\n",
              "    <tr>\n",
              "      <th>Satisfaction Level of Current Job</th>\n",
              "      <td>536.0</td>\n",
              "      <td>7.119403</td>\n",
              "      <td>1.911284</td>\n",
              "      <td>1.00</td>\n",
              "      <td>6.0</td>\n",
              "      <td>7.0</td>\n",
              "      <td>8.0</td>\n",
              "      <td>10.0</td>\n",
              "    </tr>\n",
              "    <tr>\n",
              "      <th>What was your starting monthly salary?</th>\n",
              "      <td>536.0</td>\n",
              "      <td>3752.566399</td>\n",
              "      <td>10021.019761</td>\n",
              "      <td>0.01</td>\n",
              "      <td>2500.0</td>\n",
              "      <td>3000.0</td>\n",
              "      <td>3500.0</td>\n",
              "      <td>230000.0</td>\n",
              "    </tr>\n",
              "  </tbody>\n",
              "</table>\n",
              "</div>"
            ],
            "text/plain": [
              "                                                    count  ...        max\n",
              "Age                                                 536.0  ...       44.0\n",
              "What is your current monthly base salary?           536.0  ...  9200000.0\n",
              "How many days of annual leave are you entitled to?  536.0  ...    38400.0\n",
              "Satisfaction Level of Current Job                   536.0  ...       10.0\n",
              "What was your starting monthly salary?              536.0  ...   230000.0\n",
              "\n",
              "[5 rows x 8 columns]"
            ]
          },
          "metadata": {},
          "execution_count": 5
        }
      ]
    },
    {
      "cell_type": "markdown",
      "metadata": {
        "id": "iOSBRUVf80TI"
      },
      "source": [
        "A simple helper function is created to check which columns shall be dropped. Columns which have a threshold of 60% of more null values shall be dropped from the dataset."
      ],
      "id": "iOSBRUVf80TI"
    },
    {
      "cell_type": "code",
      "metadata": {
        "id": "416eb791"
      },
      "source": [
        "def null_percentage():\n",
        "    col = []\n",
        "    perc = []\n",
        "    null_col = [col for col in df.columns if df[col].isnull().any() == True]\n",
        "    for i in null_col:\n",
        "        null_perc = (df[i].isnull().sum() / len(df)) * 100\n",
        "        col.append(i)\n",
        "        perc.append(null_perc)\n",
        "        \n",
        "    return pd.DataFrame(data=zip(col,perc) ,columns=['Columns','Null Percentage'])"
      ],
      "id": "416eb791",
      "execution_count": null,
      "outputs": []
    },
    {
      "cell_type": "code",
      "metadata": {
        "colab": {
          "base_uri": "https://localhost:8080/",
          "height": 457
        },
        "id": "1952ee7d",
        "outputId": "ea3dc8af-ab72-40b5-f903-ade574824b46"
      },
      "source": [
        "null_percentage()"
      ],
      "id": "1952ee7d",
      "execution_count": null,
      "outputs": [
        {
          "output_type": "execute_result",
          "data": {
            "text/html": [
              "<div>\n",
              "<style scoped>\n",
              "    .dataframe tbody tr th:only-of-type {\n",
              "        vertical-align: middle;\n",
              "    }\n",
              "\n",
              "    .dataframe tbody tr th {\n",
              "        vertical-align: top;\n",
              "    }\n",
              "\n",
              "    .dataframe thead th {\n",
              "        text-align: right;\n",
              "    }\n",
              "</style>\n",
              "<table border=\"1\" class=\"dataframe\">\n",
              "  <thead>\n",
              "    <tr style=\"text-align: right;\">\n",
              "      <th></th>\n",
              "      <th>Columns</th>\n",
              "      <th>Null Percentage</th>\n",
              "    </tr>\n",
              "  </thead>\n",
              "  <tbody>\n",
              "    <tr>\n",
              "      <th>0</th>\n",
              "      <td>Nationality</td>\n",
              "      <td>0.186567</td>\n",
              "    </tr>\n",
              "    <tr>\n",
              "      <th>1</th>\n",
              "      <td>Current State of Residence</td>\n",
              "      <td>6.902985</td>\n",
              "    </tr>\n",
              "    <tr>\n",
              "      <th>2</th>\n",
              "      <td>Current City of Residence</td>\n",
              "      <td>8.022388</td>\n",
              "    </tr>\n",
              "    <tr>\n",
              "      <th>3</th>\n",
              "      <td>Name of Highest Degree Obtained</td>\n",
              "      <td>9.141791</td>\n",
              "    </tr>\n",
              "    <tr>\n",
              "      <th>4</th>\n",
              "      <td>Name of School or University</td>\n",
              "      <td>11.007463</td>\n",
              "    </tr>\n",
              "    <tr>\n",
              "      <th>5</th>\n",
              "      <td>Is your degree tech related?</td>\n",
              "      <td>3.358209</td>\n",
              "    </tr>\n",
              "    <tr>\n",
              "      <th>6</th>\n",
              "      <td>Name of Bootcamp Course</td>\n",
              "      <td>89.925373</td>\n",
              "    </tr>\n",
              "    <tr>\n",
              "      <th>7</th>\n",
              "      <td>Name of Professional Certification(s)</td>\n",
              "      <td>83.768657</td>\n",
              "    </tr>\n",
              "    <tr>\n",
              "      <th>8</th>\n",
              "      <td>What is your current bonus compensation per year?</td>\n",
              "      <td>9.701493</td>\n",
              "    </tr>\n",
              "    <tr>\n",
              "      <th>9</th>\n",
              "      <td>What is your current equity (stock) compensation per year?</td>\n",
              "      <td>22.574627</td>\n",
              "    </tr>\n",
              "    <tr>\n",
              "      <th>10</th>\n",
              "      <td>Company Benefits</td>\n",
              "      <td>0.186567</td>\n",
              "    </tr>\n",
              "    <tr>\n",
              "      <th>11</th>\n",
              "      <td>What's the name of your company? [Optional]</td>\n",
              "      <td>84.514925</td>\n",
              "    </tr>\n",
              "    <tr>\n",
              "      <th>12</th>\n",
              "      <td>Indicate in 3-character currency code for starting monthly salary</td>\n",
              "      <td>66.044776</td>\n",
              "    </tr>\n",
              "  </tbody>\n",
              "</table>\n",
              "</div>"
            ],
            "text/plain": [
              "                                                              Columns  Null Percentage\n",
              "0                                                         Nationality         0.186567\n",
              "1                                          Current State of Residence         6.902985\n",
              "2                                           Current City of Residence         8.022388\n",
              "3                                     Name of Highest Degree Obtained         9.141791\n",
              "4                                        Name of School or University        11.007463\n",
              "5                                        Is your degree tech related?         3.358209\n",
              "6                                            Name of Bootcamp Course         89.925373\n",
              "7                               Name of Professional Certification(s)        83.768657\n",
              "8                   What is your current bonus compensation per year?         9.701493\n",
              "9          What is your current equity (stock) compensation per year?        22.574627\n",
              "10                                                   Company Benefits         0.186567\n",
              "11                        What's the name of your company? [Optional]        84.514925\n",
              "12  Indicate in 3-character currency code for starting monthly salary        66.044776"
            ]
          },
          "metadata": {},
          "execution_count": 8
        }
      ]
    },
    {
      "cell_type": "markdown",
      "metadata": {
        "id": "595cac32"
      },
      "source": [
        "# Data Preprocessing & Cleaning"
      ],
      "id": "595cac32"
    },
    {
      "cell_type": "markdown",
      "metadata": {
        "id": "0c09afb4"
      },
      "source": [
        "1. Data columns renaming"
      ],
      "id": "0c09afb4"
    },
    {
      "cell_type": "code",
      "metadata": {
        "colab": {
          "base_uri": "https://localhost:8080/"
        },
        "id": "205df05f",
        "outputId": "da2f272c-e415-46b1-a0bf-869a79584ca9"
      },
      "source": [
        "df.rename(columns={\n",
        "    'What was your starting monthly salary?':'Starting Monthly Salary',\n",
        "    'Number of past employments/jobs (excluding the current one)':'Past Employments',\n",
        "    'What is the size of your tech team?':'Tech Team Size',\n",
        "    'What is the size of your company?':'Company Size',\n",
        "    'What technologies do you use for work on a regular basis?':'Technologies Used',\n",
        "    'Is your degree tech related?':'Degree in Tech',\n",
        "    'How many days of annual leave are you entitled to?':'Annual Leave Entitled',\n",
        "    'What is your current equity (stock) compensation per year?':'Stock Compensation (Year)',\n",
        "    'What is your current bonus compensation per year?':'Bonus Compensation (Year)',\n",
        "    'What is your currency code?': 'Currency',\n",
        "    'What is your current monthly base salary?':'Monthly Base Salary',\n",
        "    'Did you go through a bootcamp to learn technical skills?':'Attended Bootcamp'\n",
        "    }, inplace =True)\n",
        "\n",
        "df.columns"
      ],
      "id": "205df05f",
      "execution_count": null,
      "outputs": [
        {
          "output_type": "execute_result",
          "data": {
            "text/plain": [
              "Index(['Timestamp', 'Gender', 'Age', 'Nationality',\n",
              "       'Current Country of Residence', 'Current State of Residence',\n",
              "       'Current City of Residence', 'Highest Level of Education',\n",
              "       'Name of Highest Degree Obtained', 'Name of School or University',\n",
              "       'Degree in Tech', 'Attended Bootcamp',\n",
              "       'Professional Certification (Eg. CCNA, CEH, GCP Cloud Associate)',\n",
              "       'Name of Bootcamp Course ', 'Name of Professional Certification(s)',\n",
              "       'Job Title', 'Currency', 'Monthly Base Salary',\n",
              "       'Bonus Compensation (Year)', 'Stock Compensation (Year)',\n",
              "       'Annual Leave Entitled', 'Company Benefits', 'Technologies Used',\n",
              "       'Company Location', 'Company Industry', 'Company Size',\n",
              "       'What is the size of your tech team? ',\n",
              "       'What's the name of your company? [Optional]',\n",
              "       'Satisfaction Level of Current Job', 'Years of Experience',\n",
              "       'Past Employments', 'Starting Monthly Salary',\n",
              "       'Indicate in 3-character currency code for starting monthly salary'],\n",
              "      dtype='object')"
            ]
          },
          "metadata": {},
          "execution_count": 3
        }
      ]
    },
    {
      "cell_type": "code",
      "metadata": {
        "id": "QJ_j2_BT9Tit"
      },
      "source": [
        "def clean_company_tech_size(x):\n",
        "    x = x.replace(',','').replace(r'employees' , ' ')\n",
        "    return x \n",
        "\n",
        "\n",
        "df['Company Size'] = df['Company Size'].apply(clean_company_tech_size)\n",
        "#df['Tech Team Size'] = df['Tech Team Size'].apply(clean_company_tech_size)"
      ],
      "id": "QJ_j2_BT9Tit",
      "execution_count": null,
      "outputs": []
    },
    {
      "cell_type": "markdown",
      "metadata": {
        "id": "c9301b34"
      },
      "source": [
        "2. Handling missing Data "
      ],
      "id": "c9301b34"
    },
    {
      "cell_type": "markdown",
      "metadata": {
        "id": "tH0Vuio1IN4S"
      },
      "source": [
        "**i. General cleaning of numerical and categorical feature**\n",
        "\n",
        "Further inspection of the columns showed that individual columns may or may not have mixed data types. Two functions have been created to remove mixed minority data type within each column and depending on whether feature is numerical or categorical performs cleaning:\n",
        "\n",
        "a. Numerical features: Fill null values with mean of data distribution across that feature\n",
        "\n",
        "b. Categorical features: Fill null values with the most common recurring (mode) value across that feature\n"
      ],
      "id": "tH0Vuio1IN4S"
    },
    {
      "cell_type": "code",
      "metadata": {
        "id": "d7c4a4c4"
      },
      "source": [
        "def clean_categorical(col):\n",
        "  df[col] = df[col].fillna(df[col].value_counts().idxmax())\n",
        "  return df[col]  \n",
        "  \n",
        "\n",
        "def clean_numerical(col):\n",
        "  df[col] = pd.to_numeric(df[col] , errors = 'coerce')\n",
        "  df[col] = df[col].fillna(df[col].mean())\n",
        "\n",
        "  return df[col]"
      ],
      "id": "d7c4a4c4",
      "execution_count": null,
      "outputs": []
    },
    {
      "cell_type": "markdown",
      "metadata": {
        "id": "1UXPZDHBM43d"
      },
      "source": [
        "3. Text Preprocessing\n",
        "\n",
        "Text cleaning was done on particular features 'Company Benefits' and 'Technologies Used'. Imputation of these two features have been done previously thus focusing on the processing steps inclusive of:\n",
        "\n",
        "1. Lowering each word within each rows\n",
        "2. Filtering out general stopwords\n",
        "3. Remove unnecessary punctuations\n",
        "4. Lemmatizing the columns"
      ],
      "id": "1UXPZDHBM43d"
    },
    {
      "cell_type": "code",
      "metadata": {
        "colab": {
          "base_uri": "https://localhost:8080/"
        },
        "id": "N6fN9z4eUuzv",
        "outputId": "86fc0732-a338-4a9b-8251-0ab94878a7b5"
      },
      "source": [
        "import nltk\n",
        "from nltk.stem import WordNetLemmatizer\n",
        "from nltk import word_tokenize\n",
        "lemmatizer = WordNetLemmatizer()\n",
        "nltk.download('stopwords')\n",
        "from nltk.corpus import stopwords\n",
        "stopwords = stopwords.words('english')\n",
        "import re \n",
        "nltk.download('punkt')\n",
        "nltk.download('wordnet')\n"
      ],
      "id": "N6fN9z4eUuzv",
      "execution_count": null,
      "outputs": [
        {
          "output_type": "stream",
          "name": "stdout",
          "text": [
            "[nltk_data] Downloading package stopwords to /root/nltk_data...\n",
            "[nltk_data]   Package stopwords is already up-to-date!\n",
            "[nltk_data] Downloading package punkt to /root/nltk_data...\n",
            "[nltk_data]   Package punkt is already up-to-date!\n",
            "[nltk_data] Downloading package wordnet to /root/nltk_data...\n",
            "[nltk_data]   Unzipping corpora/wordnet.zip.\n"
          ]
        },
        {
          "output_type": "execute_result",
          "data": {
            "text/plain": [
              "True"
            ]
          },
          "metadata": {},
          "execution_count": 28
        }
      ]
    },
    {
      "cell_type": "code",
      "metadata": {
        "id": "f2z2Sg7rYe7v"
      },
      "source": [
        "def clean_skills(x):\n",
        "  clean_text = []\n",
        "  final_text = []\n",
        "  text = re.sub(',','',str(x).lower())\n",
        "  clean_text = [lemmatizer.lemmatize(word , pos='n') for word in word_tokenize(text)]\n",
        "  final_text = [skill for skill in clean_text if skill not in stopwords]\n",
        "\n",
        "  return \" \".join(final_text)"
      ],
      "id": "f2z2Sg7rYe7v",
      "execution_count": null,
      "outputs": []
    },
    {
      "cell_type": "code",
      "metadata": {
        "id": "yPV5ELe9eHsI"
      },
      "source": [
        "def clean_benefits(x):\n",
        "  clean_text = []\n",
        "  final_text = []\n",
        "  text = re.sub(\",\",'',x)\n",
        "  text = re.sub"
      ],
      "id": "yPV5ELe9eHsI",
      "execution_count": null,
      "outputs": []
    },
    {
      "cell_type": "code",
      "metadata": {
        "id": "8F-5RcUNcP9z"
      },
      "source": [
        "temp['Technologies Used'] = temp['Technologies Used'].apply(clean_skills)"
      ],
      "id": "8F-5RcUNcP9z",
      "execution_count": null,
      "outputs": []
    },
    {
      "cell_type": "markdown",
      "metadata": {
        "id": "Pcc0c7NrllHe"
      },
      "source": [
        "Exploratory Data Analysis"
      ],
      "id": "Pcc0c7NrllHe"
    },
    {
      "cell_type": "markdown",
      "metadata": {
        "id": "6EVEMByAJZly"
      },
      "source": [
        "Data visualization was done after cleaning up null values. By using boxplots, the data distribution of features can be observed and most importantly to look for outliers to decide whether to be processed or remained as it is."
      ],
      "id": "6EVEMByAJZly"
    },
    {
      "cell_type": "code",
      "metadata": {
        "id": "2pfeBUxPJKVl"
      },
      "source": [
        "def create_boxplot(col):\n",
        "  fig, ax = plt.subplots(1,1, figsize=(8,8))\n",
        "  \n",
        "  i = 0\n",
        "  #for col in columns:\n",
        "  sns.boxplot(x = df[col] , ax=ax[i])\n",
        "  plt.set_title('Boxplot of ' + col)\n",
        "  plt.xlabel(col)\n",
        "  #i += 1\n",
        "  plt.show()\n",
        "  \n",
        "  plt.tight_layout()"
      ],
      "id": "2pfeBUxPJKVl",
      "execution_count": null,
      "outputs": []
    },
    {
      "cell_type": "code",
      "metadata": {
        "id": "4IaqqZIpmCto"
      },
      "source": [
        "def plot_numerical()"
      ],
      "id": "4IaqqZIpmCto",
      "execution_count": null,
      "outputs": []
    },
    {
      "cell_type": "code",
      "metadata": {
        "id": "HiPKOPEamIlQ"
      },
      "source": [
        "def plot_categorical()\n"
      ],
      "id": "HiPKOPEamIlQ",
      "execution_count": null,
      "outputs": []
    },
    {
      "cell_type": "code",
      "metadata": {
        "id": "xTQ0yAxrmUZh"
      },
      "source": [
        "sns.heatmap(df.corr, annot=True)"
      ],
      "id": "xTQ0yAxrmUZh",
      "execution_count": null,
      "outputs": []
    },
    {
      "cell_type": "code",
      "metadata": {
        "colab": {
          "base_uri": "https://localhost:8080/",
          "height": 921
        },
        "id": "fR1HJklImZZw",
        "outputId": "88e0ed3a-716e-4597-c2fa-cf6b7ff5945a"
      },
      "source": [
        "sns.pairplot(df)"
      ],
      "id": "fR1HJklImZZw",
      "execution_count": null,
      "outputs": [
        {
          "output_type": "execute_result",
          "data": {
            "text/plain": [
              "<seaborn.axisgrid.PairGrid at 0x7fb8c9647810>"
            ]
          },
          "metadata": {},
          "execution_count": 40
        },
        {
          "output_type": "display_data",
          "data": {
            "image/png": "[encoded data removed]",
            "text/plain": [
              "<Figure size 900x900 with 30 Axes>"
            ]
          },
          "metadata": {
            "needs_background": "light"
          }
        }
      ]
    }
  ]
}